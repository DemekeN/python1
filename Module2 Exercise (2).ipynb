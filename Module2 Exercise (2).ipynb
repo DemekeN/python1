{
 "cells": [
  {
   "cell_type": "markdown",
   "metadata": {},
   "source": [
    "## Exercises\n",
    "### Write the pseudocode for these problems. \n",
    "\n",
    "#### Define the problem by constructing an IPO diagram showing input, output, and processing steps\n",
    "Ask yourself\n",
    "- What control structures (sequence, selection and repetition) are required?\n",
    "- What variables are required?\n",
    "\n",
    "Show a check of your solution with **test data** for at least **two valid test cases**\n",
    "If you use the numbers provided in the example then the correct pseudocode will calculate the same result.\n",
    "    "
   ]
  },
  {
   "cell_type": "markdown",
   "metadata": {},
   "source": [
    "#### 1. Find the average score\n",
    "A program is needed to prompt the user operator for exam scores, calculate the average score and display the result to the screen. The average score is calculated as the sum of the scores divided by the number of scores."
   ]
  },
  {
   "cell_type": "markdown",
   "metadata": {},
   "source": [
    "## IPO\n",
    "\n",
    "\n",
    "#### INPUT\n",
    "Prompt exam scores\n",
    "\n",
    "#### PROCESS\n",
    "add scores <br />\n",
    "calculate average\n",
    "\n",
    "#### OUTPUT \n",
    "Display average\n",
    "\n",
    "\n",
    "\n",
    "\n",
    "## Pseudocode\n",
    "\n",
    "BEGIN <br />\n",
    "> SET NUMBER TO 1 <br />\n",
    "  SET TOTAL TO 0 <br />\n",
    "  LOOP FOR TOTAL OF SCORES <br />\n",
    "  > PROMPT FOR EXAM SCORE 1 <br />\n",
    "    GET SCORE <br />\n",
    "    ADD SCORE TO TOTAL <br />\n",
    "    ADD 1 TO NUMBER  <br />\n",
    "> END LOOP <br />\n",
    "  AVERAGE = DIVIDE TOTAL BY NUMBER  <br />\n",
    "  PRINT AVERAGE <br />\n",
    " \n",
    "END\n",
    "       "
   ]
  },
  {
   "cell_type": "markdown",
   "metadata": {},
   "source": [
    "#### 2. How much water runs off a roof in a rain storm?\n",
    "To calculate the runoff from any given rainfall: Take the dimensions of the footprint of the roof and convert them to inches. (So, a 50' x 20' roof is 600\" x 240\"). Multiply the roof dimensions by the number of inches of rainfall. As an example, 600\" x 240\" x 1\" = 144,000 cubic inches of water for an inch of rainfall. Divide that result by 231 to get the number of gallons (because 1 gallon = 231 cubic inches). (144,000/231 = 623.38)."
   ]
  },
  {
   "cell_type": "markdown",
   "metadata": {},
   "source": [
    "IPO <br />\n",
    "\n",
    "INPUT <br />\n",
    "roof dimensions <br />\n",
    "number of inches of rainfall <br />\n",
    "\n",
    "PROCESS <br />\n",
    "CONVERT ROOF DIMENSIONS INTO INCHES <br />\n",
    "CALCULATE GALLONS OF WATERS <br />\n",
    "\n",
    "OUTPUT <br />\n",
    "Gallons of runoff from any given rainfall <br />\n",
    "\n",
    "\n",
    "\n",
    "Pseudocode <br />\n",
    "\n",
    "\n",
    "BEGIN <br />\n",
    "> INPUT ROOF DIMENSIONS FOOTPRINT <br />\n",
    "  INPUT NUMBER OF INCHES OF RAINFALL <br />\n",
    "  CONVERT ROOF DIMENSIONS FOOTPRINT INTO INCHES AS CI <br />\n",
    "  CALCULATE THE NUMBER OF GALLONS OF RAINFALL BY DIVIDING CI BY 231 <br />\n",
    ">\n",
    "END\n",
    "    "
   ]
  },
  {
   "cell_type": "markdown",
   "metadata": {},
   "source": [
    "#### 3. Process customer record\n",
    "A program is required to read a customer’s name, a purchase amount and a tax code. The tax code has been validated and will be one of the following: 0 tax exempt (0%) 1 state sales tax only (3%) 2 federal and state sales tax (5%) 3 special sales tax (7%) The program must then compute the sales tax and the total amount due,and print the customer’s name, purchase amount, sales tax and total amount due."
   ]
  },
  {
   "cell_type": "markdown",
   "metadata": {},
   "source": [
    "## IPO <br />\n",
    "\n",
    "### INPUT <br />\n",
    "Tax options <br />\n",
    "Sale amount <br />\n",
    "\n",
    "### PROCESS <br />\n",
    "Calculate tax <br />\n",
    "calculate total sale <br />\n",
    "\n",
    "### OUTPUT <br />\n",
    "PRINT NAME  <br />\n",
    "PRINT SALE <br />\n",
    "PRINT TAX <br />\n",
    "PRINT TOTAL_AMOUNT_DUE <br />\n",
    "\n",
    "\n",
    "\n",
    "\n",
    "## Pseudocode<br />\n",
    "\n",
    "BEGIN<br />\n",
    ">   TAX OPTIONS = LIST POSSIBLE TAXES <br />\n",
    "    PURCHASE AMOUNT = SALE <br />\n",
    "    CHOOSE FROM TAX OPTIONS = TAX_RATE <br />\n",
    "    TAX = SALE * TAX_RATE <br />\n",
    "    TOTAL_AMOUNT_DUE = SALE + TAX <br />     \n",
    "    PRINT NAME <br />\n",
    "    PRINT SALE <br />\n",
    "    PRINT TAX <br />\n",
    "    PRINT TOTAL_AMOUNT_DUE <br />\n",
    "> \n",
    "END <br />\n",
    "    \n",
    "    "
   ]
  },
  {
   "cell_type": "markdown",
   "metadata": {},
   "source": [
    "#### 4. Calculate employee's pay \n",
    "A program is required by a company to read an employee’s number, pay rate and the number of hours worked in a week. The program is then to validate the pay rate field and the hours worked field and, if valid, compute the employee’s weekly pay and then print it and the input data.\n",
    "\n",
    "Validation: According to the company’s rules, the maximum hours an employee can work per week is 60 hours, and the maximum hourly rate is $25.00 per hour. If the hours worked field or the hourly rate field is out of range, the input data and an appropriate message are to be printed and the employee’s weekly pay is not to be calculated.\n",
    "\n",
    "Weekly pay calculation: Weekly pay is calculated as hours worked times pay rate. If more than 35 hours are worked, payment for the overtime hours worked is calculated at time-and-a-half."
   ]
  },
  {
   "cell_type": "markdown",
   "metadata": {},
   "source": [
    "## IPO <br />\n",
    "\n",
    "#### INPUT <br />\n",
    "Employee's number <br />\n",
    "PAY RATE <br />\n",
    "HOURS WORKED <br />\n",
    "\n",
    "#### PROCESS <br />\n",
    "validate pay rate = $25 <br />\n",
    "Validate hours worked <= 60 hours <br />\n",
    "compute weekly pay <br />\n",
    "\n",
    "#### OUTPUT <br />\n",
    "print weekly pay and input data <br />\n",
    "\n",
    "\n",
    "\n",
    "## Pseudocode <br />\n",
    "\n",
    "BEGIN <br />\n",
    "> EMPLOYEE NUMBER = N <br />\n",
    "  PAY RATE = P <br />\n",
    "  HOURS WORKED = H <br />\n",
    "  \n",
    "  IFLOOP <br />\n",
    "  > VALIDATE PAY RATE =$25 <br />\n",
    "    VALIDATE HOURS WORKED <= 60 <br />\n",
    "    IFLOOP OVERTIME <br />\n",
    "    > CHEECK IF HOURS WORKED > 40 <br />\n",
    "      OVERTIME = H - 40 <br />\n",
    "      weekly pay = H*P + OVERTIME * (P+P/2) <br />\n",
    "  > ELSE <br />\n",
    "    weekly pay = H*P <br />\n",
    "    PRINT weekly pay <br />\n",
    "    PRINT N <br />\n",
    "    \n",
    "> ELSE <br />\n",
    "  > PRINT INVALIDATE PAY RATE AND HOURS WORKED <br />\n",
    "\n",
    "END <br />\n",
    "              \n",
    "                 \n",
    "     \n",
    "    \n"
   ]
  },
  {
   "cell_type": "code",
   "execution_count": null,
   "metadata": {},
   "outputs": [],
   "source": []
  }
 ],
 "metadata": {
  "kernelspec": {
   "display_name": "Python 3",
   "language": "python",
   "name": "python3"
  },
  "language_info": {
   "codemirror_mode": {
    "name": "ipython",
    "version": 3
   },
   "file_extension": ".py",
   "mimetype": "text/x-python",
   "name": "python",
   "nbconvert_exporter": "python",
   "pygments_lexer": "ipython3",
   "version": "3.8.5"
  }
 },
 "nbformat": 4,
 "nbformat_minor": 2
}
