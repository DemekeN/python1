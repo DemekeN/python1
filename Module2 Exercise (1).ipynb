{
 "cells": [
  {
   "cell_type": "markdown",
   "metadata": {},
   "source": [
    "## Exercises\n",
    "### Write the pseudocode for these problems. \n",
    "\n",
    "#### Define the problem by constructing an IPO diagram showing input, output, and processing steps\n",
    "Ask yourself\n",
    "- What control structures (sequence, selection and repetition) are required?\n",
    "- What variables are required?\n",
    "\n",
    "Show a check of your solution with **test data** for at least **two valid test cases**\n",
    "If you use the numbers provided in the example then the correct pseudocode will calculate the same result.\n",
    "    "
   ]
  },
  {
   "cell_type": "markdown",
   "metadata": {},
   "source": [
    "#### 1. Find the average score\n",
    "A program is needed to prompt the user operator for exam scores, calculate the average score and display the result to the screen. The average score is calculated as the sum of the scores divided by the number of scores."
   ]
  },
  {
   "cell_type": "markdown",
   "metadata": {},
   "source": [
    "IPO\n",
    "\n",
    "\n",
    "INPUT\n",
    "Prompt exam scores\n",
    "\n",
    "PROCESS\n",
    "add scores\n",
    "calculate average\n",
    "\n",
    "OUTPUT \n",
    "Display average\n",
    "\n",
    "\n",
    "\n",
    "\n",
    "Pseudocode\n",
    "\n",
    "BEGIN\n",
    "    SET NUMBER TO 1\n",
    "    SET TOTAL TO 0\n",
    "    LOOP FOR TOTAL OF SCORES \n",
    "        PROMPT FOR EXAM SCORE 1\n",
    "        GET SCORE \n",
    "        ADD SCORE TO TOTAL\n",
    "        ADD 1 TO NUMBER \n",
    "     END LOOP\n",
    "     AVERAGE = DIVIDE TOTAL BY NUMBER \n",
    "     PRINT AVERAGE\n",
    " END\n",
    "       "
   ]
  },
  {
   "cell_type": "markdown",
   "metadata": {},
   "source": [
    "#### 2. How much water runs off a roof in a rain storm?\n",
    "To calculate the runoff from any given rainfall: Take the dimensions of the footprint of the roof and convert them to inches. (So, a 50' x 20' roof is 600\" x 240\"). Multiply the roof dimensions by the number of inches of rainfall. As an example, 600\" x 240\" x 1\" = 144,000 cubic inches of water for an inch of rainfall. Divide that result by 231 to get the number of gallons (because 1 gallon = 231 cubic inches). (144,000/231 = 623.38)."
   ]
  },
  {
   "cell_type": "markdown",
   "metadata": {},
   "source": [
    "IPO \n",
    "\n",
    "INPUT \n",
    "roof dimensions\n",
    "number of inches of rainfall\n",
    "\n",
    "PROCESS\n",
    "CONVERT ROOF DIMENSIONS INTO INCHES\n",
    "CALCULATE GALLONS OF WATERS \n",
    "\n",
    "OUTPUT\n",
    "Gallons of runoff from any given rainfall\n",
    "\n",
    "\n",
    "\n",
    "Pseudocode\n",
    "\n",
    "\n",
    "BEGIN \n",
    "    INPUT ROOF DIMENSIONS FOOTPRINT\n",
    "    INPUT NUMBER OF INCHES OF RAINFALL\n",
    "    CONVERT ROOF DIMENSIONS FOOTPRINT INTO INCHES AS CI\n",
    "    CALCULATE THE NUMBER OF GALLONS OF RAINFALL BY DIVIDING CI BY 231\n",
    "END\n",
    "    "
   ]
  },
  {
   "cell_type": "markdown",
   "metadata": {},
   "source": [
    "#### 3. Process customer record\n",
    "A program is required to read a customer’s name, a purchase amount and a tax code. The tax code has been validated and will be one of the following: 0 tax exempt (0%) 1 state sales tax only (3%) 2 federal and state sales tax (5%) 3 special sales tax (7%) The program must then compute the sales tax and the total amount due,and print the customer’s name, purchase amount, sales tax and total amount due."
   ]
  },
  {
   "cell_type": "markdown",
   "metadata": {},
   "source": [
    "ipo\n",
    "\n",
    "INPUT\n",
    "Tax options\n",
    "Sale amount\n",
    "\n",
    "PROCESS\n",
    "Calculate tax\n",
    "calculate total sale\n",
    "\n",
    "OUTPUT\n",
    "PRINT NAME\n",
    "PRINT SALE\n",
    "PRINT TAX\n",
    "PRINT TOTAL_AMOUNT_DUE\n",
    "\n",
    "\n",
    "\n",
    "\n",
    "Pseudocode\n",
    "\n",
    "BEGIN\n",
    "    TAX OPTIONS = LIST POSSIBLE TAXES \n",
    "    PURCHASE AMOUNT = SALE\n",
    "    CHOOSE FROM TAX OPTIONS = TAX_RATE\n",
    "    TAX = SALE * TAX_RATE\n",
    "    TOTAL_AMOUNT_DUE = SALE + TAX      \n",
    "    PRINT NAME\n",
    "    PRINT SALE\n",
    "    PRINT TAX\n",
    "    PRINT TOTAL_AMOUNT_DUE\n",
    "END\n",
    "    \n",
    "    "
   ]
  },
  {
   "cell_type": "markdown",
   "metadata": {},
   "source": [
    "#### 4. Calculate employee's pay \n",
    "A program is required by a company to read an employee’s number, pay rate and the number of hours worked in a week. The program is then to validate the pay rate field and the hours worked field and, if valid, compute the employee’s weekly pay and then print it and the input data.\n",
    "\n",
    "Validation: According to the company’s rules, the maximum hours an employee can work per week is 60 hours, and the maximum hourly rate is $25.00 per hour. If the hours worked field or the hourly rate field is out of range, the input data and an appropriate message are to be printed and the employee’s weekly pay is not to be calculated.\n",
    "\n",
    "Weekly pay calculation: Weekly pay is calculated as hours worked times pay rate. If more than 35 hours are worked, payment for the overtime hours worked is calculated at time-and-a-half."
   ]
  },
  {
   "cell_type": "markdown",
   "metadata": {},
   "source": [
    "IPO\n",
    "\n",
    "INPUT \n",
    "Employee's number\n",
    "PAY RATE\n",
    "HOURS WORKED\n",
    "\n",
    "PROCESS\n",
    "validate pay rate = $25\n",
    "Validate hours worked <= 60 hours\n",
    "compute weekly pay\n",
    "\n",
    "OUTPUT \n",
    "print weekly pay and input data\n",
    "\n",
    "\n",
    "\n",
    "Pseudocode\n",
    "\n",
    "BEGIN\n",
    "    EMPLOYEE NUMBER = N\n",
    "    PAY RATE = P\n",
    "    HOURS WORKED = H\n",
    "    IFLOOP\n",
    "         VALIDATE PAY RATE =$25\n",
    "         VALIDATE HOURS WORKED <= 60\n",
    "             IFLOOP OVERTIME\n",
    "                 CHEECK IF HOURS WORKED > 40\n",
    "                 OVERTIME = H - 40\n",
    "                 weekly pay = H*P + OVERTIME * (P+P/2)\n",
    "              ELSE\n",
    "              weekly pay = H*P\n",
    "          PRINT weekly pay\n",
    "          PRINT N\n",
    "      ELSE\n",
    "      PRINT INVALIDATE PAY RATE AND HOURS WORKED\n",
    " END\n",
    "              \n",
    "                 \n",
    "     \n",
    "    \n"
   ]
  }
 ],
 "metadata": {
  "kernelspec": {
   "display_name": "Python 3",
   "language": "python",
   "name": "python3"
  },
  "language_info": {
   "codemirror_mode": {
    "name": "ipython",
    "version": 3
   },
   "file_extension": ".py",
   "mimetype": "text/x-python",
   "name": "python",
   "nbconvert_exporter": "python",
   "pygments_lexer": "ipython3",
   "version": "3.8.5"
  }
 },
 "nbformat": 4,
 "nbformat_minor": 2
}
