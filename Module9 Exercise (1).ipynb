{
 "cells": [
  {
   "cell_type": "markdown",
   "metadata": {},
   "source": [
    "### Exercise 1. \n",
    "Create a dictionary named pairs with key value pairs of:\n",
    "    - 'hello' and 'fire', \n",
    "    - 3 and 'seven', \n",
    "    - 'strong' and 45. \n",
    "\n",
    "Then, print out the dictionary."
   ]
  },
  {
   "cell_type": "code",
   "execution_count": 1,
   "metadata": {},
   "outputs": [
    {
     "name": "stdout",
     "output_type": "stream",
     "text": [
      "{'hello': 'fire', 3: 'seven', 'strong': 45}\n"
     ]
    }
   ],
   "source": [
    "pairs = {\"hello\":\"fire\",3 :\"seven\",\"strong\":45}\n",
    "print(pairs)"
   ]
  },
  {
   "cell_type": "markdown",
   "metadata": {},
   "source": [
    "### Exercise 2. \n",
    "Add 'welcome' and 56 pair into <b><i>pairs</i></b> dictionary from exercise 1. Then, print out the dictionary. "
   ]
  },
  {
   "cell_type": "code",
   "execution_count": 2,
   "metadata": {},
   "outputs": [
    {
     "name": "stdout",
     "output_type": "stream",
     "text": [
      "{'hello': 'fire', 3: 'seven', 'strong': 45, 'welcome': 56}\n"
     ]
    }
   ],
   "source": [
    "pairs['welcome'] = 56\n",
    "print(pairs)"
   ]
  },
  {
   "cell_type": "markdown",
   "metadata": {},
   "source": [
    "### Exercise 3. \n",
    "Delete one item from <b><i>pairs</i></b> dictionary. Then, print deleted item and the dictionary."
   ]
  },
  {
   "cell_type": "code",
   "execution_count": 3,
   "metadata": {},
   "outputs": [
    {
     "name": "stdout",
     "output_type": "stream",
     "text": [
      "('welcome', 56)\n",
      "{'hello': 'fire', 3: 'seven', 'strong': 45}\n"
     ]
    }
   ],
   "source": [
    "deleted = pairs.popitem()\n",
    "print(deleted)\n",
    "print(pairs)"
   ]
  },
  {
   "cell_type": "markdown",
   "metadata": {},
   "source": [
    "### Exercise 4. \n",
    "Print the value of an item where key is 3 in <b><i>pairs</i></b> dicitonary"
   ]
  },
  {
   "cell_type": "code",
   "execution_count": 4,
   "metadata": {},
   "outputs": [
    {
     "name": "stdout",
     "output_type": "stream",
     "text": [
      "seven\n"
     ]
    }
   ],
   "source": [
    "print(pairs.get(3,\"Unknown\"))"
   ]
  },
  {
   "cell_type": "markdown",
   "metadata": {},
   "source": [
    "### Exercise 5. \n",
    "Try to find out if the key called 'hello' exist in <b><i>pairs</i></b> dictionary. Print 'key is found' message if the key exists otherwise print 'key is not there'."
   ]
  },
  {
   "cell_type": "code",
   "execution_count": 6,
   "metadata": {},
   "outputs": [
    {
     "name": "stdout",
     "output_type": "stream",
     "text": [
      "hello is found\n"
     ]
    }
   ],
   "source": [
    "\n",
    "if 'hello' in pairs:\n",
    "    print('hello is found')\n",
    "else:\n",
    "    print('hello is not there')\n",
    "    "
   ]
  },
  {
   "cell_type": "markdown",
   "metadata": {},
   "source": [
    "### Exercise 6. \n",
    "Create a Test Scores program that gets the name of students and test score from a user. Then, generate a list of students who passed and a list of students who failed where passing test score is 60 or above. "
   ]
  },
  {
   "cell_type": "code",
   "execution_count": 9,
   "metadata": {},
   "outputs": [],
   "source": [
    "def test_score(n): # n is total number of students for input\n",
    "    scores = {}   # Stores student name, test score\n",
    "    for i in range(1,n+1):\n",
    "        #scores = {}\n",
    "        name = input(\"Enter student name : \")\n",
    "        score = int(input(\"Enter test score : \"))\n",
    "        scores[name] = score\n",
    "    passed = []  # Store list of students passed the test\n",
    "    failed = []  # Stores list of students failed the test\n",
    "    for key, value in scores.items(): # iterating in the dictionary \n",
    "        if value >=60:\n",
    "            passed.append(key)\n",
    "        else:\n",
    "            failed.append(key)\n",
    "    print(f'List of Students who passed the test : {passed}')\n",
    "    print(f'List of Students who failed the test : {failed}')\n",
    "            \n",
    "        \n",
    "    \n",
    "    "
   ]
  },
  {
   "cell_type": "code",
   "execution_count": 10,
   "metadata": {},
   "outputs": [
    {
     "name": "stdout",
     "output_type": "stream",
     "text": [
      "Enter student name : John M\n",
      "Enter test score : 76\n",
      "Enter student name : Sara L\n",
      "Enter test score : 60\n",
      "Enter student name : Jak U\n",
      "Enter test score : 59\n",
      "Enter student name : Dave G\n",
      "Enter test score : 89\n",
      "Enter student name : Eli O\n",
      "Enter test score : 58\n",
      "Enter student name : Rob J\n",
      "Enter test score : 67\n",
      "List of Students who passed the test : ['John M', 'Sara L', 'Dave G', 'Rob J']\n",
      "List of Students who failed the test : ['Jak U', 'Eli O']\n"
     ]
    }
   ],
   "source": [
    "test_score(6)"
   ]
  },
  {
   "cell_type": "markdown",
   "metadata": {},
   "source": [
    "### Exercise 7. \n",
    "\n",
    "Create a Word Counter program that gets a string of text from a user and then counts the number of times a word occrs in the string. \n",
    "\n",
    "The output should look something like this:\n",
    "\n",
    "    The Word Counter Program\n",
    "    \n",
    "    Enter a text string: \n",
    "    Humpty Dumpty sat on a wall, Humpty Dumpty had a great fall. All the king’s horses and all the king’s men couldn’t put Humpty together again.\n",
    "\n",
    "    a : 2\n",
    "    again : 1\n",
    "    all : 2\n",
    "    and : 1\n",
    "    couldn’t : 1\n",
    "    dumpty : 2\n",
    "    fall : 1\n",
    "    great : 1\n",
    "    had : 1\n",
    "    horses : 1\n",
    "    humpty : 3\n",
    "    king’s : 2\n",
    "    men : 1\n",
    "    on : 1\n",
    "    put : 1\n",
    "    sat : 1\n",
    "    the : 2\n",
    "    together : 1\n",
    "    wall : 1\n",
    "\n",
    "    There were total 26 words in the text string   "
   ]
  },
  {
   "cell_type": "code",
   "execution_count": 12,
   "metadata": {},
   "outputs": [
    {
     "name": "stdout",
     "output_type": "stream",
     "text": [
      "The Word Counter Program\n",
      "Enter a text string:\n",
      " Humpty Dumpty sat on a wall, Humpty Dumpty had a great fall. All the king’s horses and all the king’s men couldn’t put Humpty together again.\n",
      "All:1\n",
      "Dumpty:2\n",
      "Humpty:3\n",
      "a:2\n",
      "again.:1\n",
      "all:1\n",
      "and:1\n",
      "couldn’t:1\n",
      "fall.:1\n",
      "great:1\n",
      "had:1\n",
      "horses:1\n",
      "king’s:2\n",
      "men:1\n",
      "on:1\n",
      "put:1\n",
      "sat:1\n",
      "the:2\n",
      "together:1\n",
      "wall,:1\n",
      "There were total 26 words in the text string \n"
     ]
    }
   ],
   "source": [
    "def word_counter():\n",
    "    print(\"The Word Counter Program\")\n",
    "    string = input(\"Enter a text string:\\n \") # get text from user\n",
    "    word_counts ={}          # store words with their number(frequency)\n",
    "    words = string.split()   # Split text input from user based on space/separeter\n",
    "    for word in words:        \n",
    "        if word in word_counts:\n",
    "            word_counts[word] += 1\n",
    "        else:\n",
    "            word_counts[word] = 1\n",
    "    \n",
    "    for key,value in sorted(word_counts.items()):\n",
    "        print(key,value, sep = ':')\n",
    "    sum_counts = word_counts.values()\n",
    "    total = sum(sum_counts)\n",
    "    print(f'There were total {total} words in the text string ')\n",
    "    \n",
    "word_counter()\n",
    "    \n",
    "            "
   ]
  },
  {
   "cell_type": "code",
   "execution_count": null,
   "metadata": {},
   "outputs": [],
   "source": []
  }
 ],
 "metadata": {
  "kernelspec": {
   "display_name": "Python 3",
   "language": "python",
   "name": "python3"
  },
  "language_info": {
   "codemirror_mode": {
    "name": "ipython",
    "version": 3
   },
   "file_extension": ".py",
   "mimetype": "text/x-python",
   "name": "python",
   "nbconvert_exporter": "python",
   "pygments_lexer": "ipython3",
   "version": "3.8.5"
  }
 },
 "nbformat": 4,
 "nbformat_minor": 4
}
